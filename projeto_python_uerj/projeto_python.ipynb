{
 "cells": [
  {
   "cell_type": "markdown",
   "metadata": {},
   "source": [
    "## Sistema de Gerenciamento de tarefas"
   ]
  },
  {
   "cell_type": "code",
   "execution_count": 3,
   "metadata": {},
   "outputs": [
    {
     "name": "stdout",
     "output_type": "stream",
     "text": [
      "\n",
      "Opções:\n",
      "1. Adicionar Tarefa\n",
      "2. Listar Tarefas\n",
      "3. Listar Tarefas por Prioridade\n",
      "4. Remover Tarefa\n",
      "5. Sair\n",
      "Tarefa 'Estudar Python' com prioridade '10' adicionada à lista.\n",
      "\n",
      "Opções:\n",
      "1. Adicionar Tarefa\n",
      "2. Listar Tarefas\n",
      "3. Listar Tarefas por Prioridade\n",
      "4. Remover Tarefa\n",
      "5. Sair\n",
      "Tarefa 'Ir a academia' com prioridade '8' adicionada à lista.\n",
      "\n",
      "Opções:\n",
      "1. Adicionar Tarefa\n",
      "2. Listar Tarefas\n",
      "3. Listar Tarefas por Prioridade\n",
      "4. Remover Tarefa\n",
      "5. Sair\n",
      "\n",
      "Lista de Tarefas:\n",
      "Tarefa: Estudar Python, Prioridade: 10\n",
      "Tarefa: Ir a academia, Prioridade: 8\n",
      "\n",
      "\n",
      "Opções:\n",
      "1. Adicionar Tarefa\n",
      "2. Listar Tarefas\n",
      "3. Listar Tarefas por Prioridade\n",
      "4. Remover Tarefa\n",
      "5. Sair\n"
     ]
    }
   ],
   "source": [
    "tarefas = {}\n",
    "\n",
    "def adicionar_tarefa():\n",
    "    tarefa = input(\"Digite a tarefa que deseja adicionar: \")\n",
    "    prioridade = input(\"Digite a prioridade da tarefa: \")\n",
    "    tarefas[tarefa] = prioridade\n",
    "    print(f\"Tarefa '{tarefa}' com prioridade '{prioridade}' adicionada à lista.\")\n",
    "\n",
    "def listar_tarefas():\n",
    "    print(\"\\nLista de Tarefas:\")\n",
    "    for tarefa, prioridade in sorted(tarefas.items(), key=lambda x: x[1]):\n",
    "        print(f\"Tarefa: {tarefa}, Prioridade: {prioridade}\")\n",
    "    print()\n",
    "\n",
    "def listar_tarefas_por_prioridade():\n",
    "    prioridade = input(\"Digite a prioridade que deseja listar: \")\n",
    "    print(f\"\\nTarefas com Prioridade {prioridade}:\")\n",
    "    for tarefa, p in tarefas.items():\n",
    "        if p == prioridade:\n",
    "            print(f\"Tarefa: {tarefa}, Prioridade: {p}\")\n",
    "    print()\n",
    "\n",
    "def remover_tarefa():\n",
    "    listar_tarefas()\n",
    "    tarefa = input(\"Digite o nome da tarefa que deseja remover: \")\n",
    "    if tarefa in tarefas:\n",
    "        del tarefas[tarefa]\n",
    "        print(f\"Tarefa '{tarefa}' removida da lista.\")\n",
    "    else:\n",
    "        print(\"Tarefa não encontrada na lista. Tarefa não removida.\")\n",
    "\n",
    "while True:\n",
    "    print(\"\\nOpções:\")\n",
    "    print(\"1. Adicionar Tarefa\")\n",
    "    print(\"2. Listar Tarefas\")\n",
    "    print(\"3. Listar Tarefas por Prioridade\")\n",
    "    print(\"4. Remover Tarefa\")\n",
    "    print(\"5. Sair\")\n",
    "\n",
    "    opcao = input(\"Escolha uma opção: \")\n",
    "\n",
    "    if opcao == \"1\":\n",
    "        adicionar_tarefa()\n",
    "    elif opcao == \"2\":\n",
    "        listar_tarefas()\n",
    "    elif opcao == \"3\":\n",
    "        listar_tarefas_por_prioridade()\n",
    "    elif opcao == \"4\":\n",
    "        remover_tarefa()\n",
    "    elif opcao == \"5\":\n",
    "        break\n",
    "    else:\n",
    "        print(\"Opção inválida. Por favor, escolha uma opção válida.\")\n",
    "\n",
    "\n",
    "    \n"
   ]
  }
 ],
 "metadata": {
  "kernelspec": {
   "display_name": "Python 3",
   "language": "python",
   "name": "python3"
  },
  "language_info": {
   "codemirror_mode": {
    "name": "ipython",
    "version": 3
   },
   "file_extension": ".py",
   "mimetype": "text/x-python",
   "name": "python",
   "nbconvert_exporter": "python",
   "pygments_lexer": "ipython3",
   "version": "3.10.12"
  },
  "orig_nbformat": 4
 },
 "nbformat": 4,
 "nbformat_minor": 2
}
