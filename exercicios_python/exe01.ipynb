{
 "cells": [
  {
   "cell_type": "code",
   "execution_count": null,
   "metadata": {},
   "outputs": [],
   "source": [
    "valor_inicial = int(input(\"Entre com o valor inicial: \"))\n",
    "razao = int(input(\"Razao: \"))\n",
    "valor_final = int(input('Entre com o valor final'))\n",
    "novalista = []\n",
    "for i in range(valor_inicial, valor_final, razao):\n",
    "    print(i)\n",
    "    novalista.append(i)\n",
    "print(novalista)\n",
    "len(novalista)\n",
    "resultado = 0\n",
    "for termo in novalista:\n",
    "    resultado = termo + resultado\n",
    "print(resultado)\n",
    "   "
   ]
  },
  {
   "cell_type": "code",
   "execution_count": null,
   "metadata": {},
   "outputs": [],
   "source": [
    "import random\n",
    "lista = [random.randint(1,100) for i in range(50)]\n",
    "print(lista)\n",
    "contador = 0\n",
    "for i in lista:\n",
    "   if i % 2 == 0:\n",
    "      contador = 1 + contador\n",
    "print(contador)\n",
    "      "
   ]
  }
 ],
 "metadata": {
  "language_info": {
   "name": "python"
  },
  "orig_nbformat": 4
 },
 "nbformat": 4,
 "nbformat_minor": 2
}
