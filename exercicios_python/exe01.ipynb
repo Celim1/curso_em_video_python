{
 "cells": [
  {
   "cell_type": "markdown",
   "metadata": {},
   "source": [
    "## Exercicio Progressão Aritmética"
   ]
  },
  {
   "cell_type": "code",
   "execution_count": null,
   "metadata": {},
   "outputs": [],
   "source": [
    "valor_inicial = int(input(\"Entre com o valor inicial: \"))\n",
    "razao = int(input(\"Razao: \"))\n",
    "valor_final = int(input('Entre com o valor final'))\n",
    "novalista = []\n",
    "for i in range(valor_inicial, valor_final, razao):\n",
    "    print(i)\n",
    "    novalista.append(i)\n",
    "print(novalista)\n",
    "len(novalista)\n",
    "resultado = 0\n",
    "for termo in novalista:\n",
    "    resultado = termo + resultado\n",
    "print(resultado)\n",
    "   "
   ]
  },
  {
   "cell_type": "markdown",
   "metadata": {},
   "source": [
    "## Contando números pares de uma lista random"
   ]
  },
  {
   "cell_type": "code",
   "execution_count": 1,
   "metadata": {},
   "outputs": [
    {
     "name": "stdout",
     "output_type": "stream",
     "text": [
      "[20, 31, 24, 99, 8, 44, 51, 6, 46, 30, 55, 97, 37, 96, 35, 78, 34, 98, 85, 57, 10, 23, 6, 39, 100, 38, 83, 72, 90, 41, 51, 34, 45, 12, 51, 78, 79, 12, 4, 14, 92, 41, 28, 58, 64, 34, 48, 69, 81, 76]\n",
      "30\n"
     ]
    }
   ],
   "source": [
    "import random\n",
    "lista = [random.randint(1,100) for i in range(50)]\n",
    "print(lista)\n",
    "contador = 0\n",
    "for i in lista:\n",
    "   if i % 2 == 0:\n",
    "      contador = 1 + contador\n",
    "print(contador)\n",
    "#exercicio02 \n",
    "      "
   ]
  }
 ],
 "metadata": {
  "kernelspec": {
   "display_name": "Python 3",
   "language": "python",
   "name": "python3"
  },
  "language_info": {
   "codemirror_mode": {
    "name": "ipython",
    "version": 3
   },
   "file_extension": ".py",
   "mimetype": "text/x-python",
   "name": "python",
   "nbconvert_exporter": "python",
   "pygments_lexer": "ipython3",
   "version": "3.10.12"
  },
  "orig_nbformat": 4
 },
 "nbformat": 4,
 "nbformat_minor": 2
}
