{
 "cells": [
  {
   "cell_type": "markdown",
   "metadata": {},
   "source": [
    "## Calculadora de equação do 2grau"
   ]
  },
  {
   "cell_type": "code",
   "execution_count": 27,
   "metadata": {},
   "outputs": [
    {
     "name": "stdout",
     "output_type": "stream",
     "text": [
      "[1.0, -2.0]\n"
     ]
    }
   ],
   "source": [
    "import math\n",
    "a = int(input('Digite o valor de a: '))\n",
    "b = int(input('Digite o valor de b: '))\n",
    "c = int(input('Digite o valor de c: '))\n",
    "\n",
    "def delta(a, b, c):\n",
    "    delta = ((b**2) - (4*a*c))\n",
    "    return delta\n",
    "\n",
    "def eq2grau(a, b, c):\n",
    "    delta2 = delta(a, b, c)\n",
    "    if delta2 < 0:\n",
    "       return None\n",
    "    elif delta2 == 0:\n",
    "        x = (-b + math.sqrt(delta2))/(2*a)\n",
    "        return x\n",
    "    else:\n",
    "        x1 = (-b + math.sqrt(delta2))/(2*a)\n",
    "        x2 = (-b - math.sqrt(delta2))/(2*a)\n",
    "        return [x1,x2]\n",
    "\n",
    "print(eq2grau(a,b,c))\n",
    "\n",
    "\n",
    "\n",
    "\n",
    "\n",
    "\n"
   ]
  }
 ],
 "metadata": {
  "kernelspec": {
   "display_name": "Python 3",
   "language": "python",
   "name": "python3"
  },
  "language_info": {
   "codemirror_mode": {
    "name": "ipython",
    "version": 3
   },
   "file_extension": ".py",
   "mimetype": "text/x-python",
   "name": "python",
   "nbconvert_exporter": "python",
   "pygments_lexer": "ipython3",
   "version": "3.10.12"
  },
  "orig_nbformat": 4
 },
 "nbformat": 4,
 "nbformat_minor": 2
}
