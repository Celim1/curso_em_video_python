{
 "cells": [
  {
   "cell_type": "markdown",
   "metadata": {},
   "source": [
    "## Exercício maior e menor valor::"
   ]
  },
  {
   "cell_type": "code",
   "execution_count": 2,
   "metadata": {},
   "outputs": [
    {
     "name": "stdout",
     "output_type": "stream",
     "text": [
      "O maior valor é 5\n",
      "O menor valor é 2\n"
     ]
    }
   ],
   "source": [
    "a = int(input('Digite o primeiro valor: '))\n",
    "b = int(input('Digite o segundo valor: '))\n",
    "c = int(input('Digite o terceiro valor: '))\n",
    "\n",
    "maior = a\n",
    "\n",
    "if b > a and b > c:\n",
    "    maior = b\n",
    "elif c > a and c > b:\n",
    "    maior = c\n",
    "print(f'O maior valor é {maior}')\n",
    "\n",
    "menor = a\n",
    "\n",
    "if b < a and b < c:\n",
    "    menor = b\n",
    "elif c < a and c < b:\n",
    "    menor = c\n",
    "print(f'O menor valor é {menor}')"
   ]
  },
  {
   "cell_type": "markdown",
   "metadata": {},
   "source": [
    "## Exercicio aumentos múltiplos:"
   ]
  },
  {
   "cell_type": "code",
   "execution_count": 5,
   "metadata": {},
   "outputs": [
    {
     "name": "stdout",
     "output_type": "stream",
     "text": [
      "O salario com o aumento de 10% foi de 900.0 para 1035.0\n"
     ]
    }
   ],
   "source": [
    "salario_funcionario = float(input('Entre com o salário do funcionário: '))\n",
    "\n",
    "if salario_funcionario > 1250:\n",
    "    aumento_salario = (salario_funcionario * 0.10)\n",
    "    novo_salario = (salario_funcionario + aumento_salario)\n",
    "    print(f'O salário com o aumento de 15% foi de {salario_funcionario} para {novo_salario} ')\n",
    "else:\n",
    "    aumento_salario = (salario_funcionario * 0.15)\n",
    "    novo_salario = (salario_funcionario + aumento_salario)\n",
    "    print(f'O salario com o aumento de 10% foi de {salario_funcionario} para {novo_salario}')\n"
   ]
  }
 ],
 "metadata": {
  "kernelspec": {
   "display_name": "Python 3",
   "language": "python",
   "name": "python3"
  },
  "language_info": {
   "codemirror_mode": {
    "name": "ipython",
    "version": 3
   },
   "file_extension": ".py",
   "mimetype": "text/x-python",
   "name": "python",
   "nbconvert_exporter": "python",
   "pygments_lexer": "ipython3",
   "version": "3.10.12"
  },
  "orig_nbformat": 4
 },
 "nbformat": 4,
 "nbformat_minor": 2
}
